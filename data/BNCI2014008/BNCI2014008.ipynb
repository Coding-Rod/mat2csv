{
 "cells": [
  {
   "cell_type": "code",
   "execution_count": 161,
   "id": "9a0c29ac",
   "metadata": {},
   "outputs": [],
   "source": [
    "from numpy.core.arrayprint import printoptions\n",
    "from numpy.lib.function_base import extract\n",
    "import scipy.io\n",
    "import numpy as np\n",
    "import pandas as pd\n",
    "import os\n",
    "import json"
   ]
  },
  {
   "cell_type": "code",
   "execution_count": 207,
   "id": "46da314a",
   "metadata": {},
   "outputs": [],
   "source": [
    "class NpEncoder(json.JSONEncoder):\n",
    "    def default(self, obj):\n",
    "        if isinstance(obj, np.integer):\n",
    "            return int(obj)\n",
    "        elif isinstance(obj, np.floating):\n",
    "            return float(obj)\n",
    "        elif isinstance(obj, np.ndarray):\n",
    "            return obj.tolist()\n",
    "        else:\n",
    "            return super(NpEncoder, self).default(obj)\n",
    "        \n",
    "def splitcsvjson4(x):\n",
    "    js = \" \"\n",
    "    df = pd.DataFrame(x['X'][0])\n",
    "    js = x.to_dict()\n",
    "    del js['X']\n",
    "    for i,j in js.items():\n",
    "        if(not(isinstance(j[0][0],str))  and (i != 'channels' and i != 'classes' and i != 'classes_stim')):\n",
    "            js[i] = list(extract_list(j)[0])\n",
    "        elif (isinstance(j[0][0],str)):\n",
    "            js[i] = j[0][0]\n",
    "        else:\n",
    "            js[i] = [list(k)[0] for k in j[0][0]]\n",
    "    js = json.dumps(js, indent=4, cls=NpEncoder)\n",
    "    return df, js\n",
    "\n",
    "def read_matfile4(filename):\n",
    "    data = scipy.io.loadmat(filename)['data']\n",
    "    cols=[]\n",
    "    for i in data.dtype.fields.items():\n",
    "        if '__' not in i :\n",
    "            cols.append(i)\n",
    "    df=pd.DataFrame()\n",
    "    for i in [x[0] for x in cols]:\n",
    "        if '__' not in i :\n",
    "            df[i]=(data[i]).ravel()\n",
    "    return df\n",
    "\n",
    "def convert_mat4(file):\n",
    "    df = read_matfile4(file)\n",
    "    direction = file.split('.')[0]\n",
    "#     os.mkdir(direction)\n",
    "    df_1, metadata = splitcsvjson4(df)\n",
    "    df_1 = df_1.set_index(0)\n",
    "    df_1.to_csv(direction+'/data.csv')\n",
    "    with open(direction+\"/metadata.json\",\"w\") as f:\n",
    "        f.write(metadata)"
   ]
  },
  {
   "cell_type": "code",
   "execution_count": 208,
   "id": "a5c5897b",
   "metadata": {
    "scrolled": true
   },
   "outputs": [],
   "source": [
    "convert_mat4('A01.mat')"
   ]
  },
  {
   "cell_type": "code",
   "execution_count": 169,
   "id": "c974c811",
   "metadata": {
    "scrolled": true
   },
   "outputs": [],
   "source": [
    "\n"
   ]
  },
  {
   "cell_type": "code",
   "execution_count": 170,
   "id": "13ad776f",
   "metadata": {},
   "outputs": [],
   "source": [
    "with open(\"example.json\",\"w\") as f:\n",
    "        f.write(metadata)"
   ]
  }
 ],
 "metadata": {
  "kernelspec": {
   "display_name": "Python 3",
   "language": "python",
   "name": "python3"
  },
  "language_info": {
   "codemirror_mode": {
    "name": "ipython",
    "version": 3
   },
   "file_extension": ".py",
   "mimetype": "text/x-python",
   "name": "python",
   "nbconvert_exporter": "python",
   "pygments_lexer": "ipython3",
   "version": "3.6.9"
  }
 },
 "nbformat": 4,
 "nbformat_minor": 5
}
